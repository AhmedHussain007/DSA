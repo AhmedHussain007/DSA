{
 "cells": [
  {
   "cell_type": "code",
   "execution_count": 2,
   "metadata": {},
   "outputs": [
    {
     "name": "stdout",
     "output_type": "stream",
     "text": [
      "1 2 3 4 \n",
      "1 2 3 4 \n",
      "1 2 3 4 \n",
      "1 2 3 4 \n"
     ]
    }
   ],
   "source": [
    "for i in range(1 , 5):\n",
    "    for j in range(1 , 5):\n",
    "        print(j , end= \" \")\n",
    "    print()"
   ]
  },
  {
   "cell_type": "code",
   "execution_count": 5,
   "metadata": {},
   "outputs": [
    {
     "name": "stdout",
     "output_type": "stream",
     "text": [
      "1 2 3 \n",
      "4 5 6 \n",
      "7 8 9 \n"
     ]
    }
   ],
   "source": [
    "i = 1\n",
    "for j in range(3):\n",
    "    for j in range(3):\n",
    "        print(i , end=' ')\n",
    "        i += 1\n",
    "    print()"
   ]
  },
  {
   "cell_type": "code",
   "execution_count": 8,
   "metadata": {},
   "outputs": [
    {
     "name": "stdout",
     "output_type": "stream",
     "text": [
      "1 \n",
      "2 2 \n",
      "3 3 3 \n",
      "4 4 4 4 \n",
      "5 5 5 5 5 \n"
     ]
    }
   ],
   "source": [
    "for i in range(1 , 6):\n",
    "    for j in range(i):\n",
    "        print(i , end=' ')\n",
    "    print()"
   ]
  },
  {
   "cell_type": "code",
   "execution_count": 11,
   "metadata": {},
   "outputs": [
    {
     "name": "stdout",
     "output_type": "stream",
     "text": [
      "1 \n",
      "1 2 \n",
      "1 2 3 \n",
      "1 2 3 4 \n"
     ]
    }
   ],
   "source": [
    "for i in range(2 , 6):\n",
    "    for j in range(1 , i):\n",
    "        print(j , end=' ')\n",
    "    print()"
   ]
  },
  {
   "cell_type": "code",
   "execution_count": null,
   "metadata": {},
   "outputs": [
    {
     "name": "stdout",
     "output_type": "stream",
     "text": [
      "1 \n",
      "2 1 \n",
      "3 2 1 \n",
      "4 3 2 1 \n"
     ]
    }
   ],
   "source": [
    "for i in range(1, 5):\n",
    "    for j in range(i , 0 , -1):\n",
    "        print(j, end=' ')\n",
    "    print()"
   ]
  },
  {
   "cell_type": "code",
   "execution_count": 16,
   "metadata": {},
   "outputs": [
    {
     "name": "stdout",
     "output_type": "stream",
     "text": [
      "1 1 1 1 \n",
      "2 2 2 \n",
      "3 3 \n",
      "4 \n"
     ]
    }
   ],
   "source": [
    "for i in range(1, 5):\n",
    "    for j in range(i , 5):\n",
    "        print(i, end=' ')\n",
    "    print()"
   ]
  },
  {
   "cell_type": "code",
   "execution_count": 22,
   "metadata": {},
   "outputs": [
    {
     "name": "stdout",
     "output_type": "stream",
     "text": [
      "            1 \n",
      "         1 2 1 \n",
      "      1 2 3 2 1 \n",
      "   1 2 3 4 3 2 1 \n"
     ]
    }
   ],
   "source": [
    "for i in range(1 , 5):\n",
    "    for j in range(5 , i , -1):\n",
    "        print(\" \" , end='  ')\n",
    "    for j in range(1 , i + 1):\n",
    "        print(j , end=' ')\n",
    "    for j in range(i - 1 , 0 , -1):\n",
    "        print(j , end=' ')\n",
    "    print()"
   ]
  },
  {
   "cell_type": "code",
   "execution_count": 40,
   "metadata": {},
   "outputs": [
    {
     "name": "stdout",
     "output_type": "stream",
     "text": [
      "                1                      \n",
      "            2      2                  \n",
      "        3              3              \n",
      "    4                      4          \n",
      "5                              5      \n",
      "    2                      8          \n",
      "        3              7              \n",
      "            4      6                  \n",
      "                5                      \n"
     ]
    }
   ],
   "source": [
    "def fun(n = 5):\n",
    "    for i in range(1 , n):\n",
    "        for j in range(1 , n*2 - 1):\n",
    "            if(j == (n-1 - i + 1) or j == (n-1 + i - 1)):\n",
    "                print(i , end='  ')\n",
    "            else:\n",
    "                print(\"  \" , end='  ')\n",
    "        print()\n",
    "\n",
    "    for i in range(1 , n-1):\n",
    "        for j in range(1 , n*2-1):\n",
    "            if(j == (i + 1) or (j + i)%(n*2-3) == 0):\n",
    "                print(j , end='  ')\n",
    "            else:\n",
    "                print(\"  \" , end='  ')\n",
    "        print()\n",
    "fun(n = 6)"
   ]
  },
  {
   "cell_type": "code",
   "execution_count": 54,
   "metadata": {},
   "outputs": [
    {
     "name": "stdout",
     "output_type": "stream",
     "text": [
      "                        \n",
      "1                   1 \n",
      "1 2             1 2 \n",
      "1 2 3       1 2 3 \n",
      "1 2 3 4 1 2 3 4 \n",
      "1 2 3 4 1 2 3 4 \n",
      "1 2 3       1 2 3 \n",
      "1 2             1 2 \n",
      "1                   1 \n"
     ]
    }
   ],
   "source": [
    "def butt(n = 6):\n",
    "    for i in range(1 , n):\n",
    "        for j in range(1, i):\n",
    "            print(j , end= ' ')\n",
    "        for j in range(1 , n - i):\n",
    "            print('    ' , end='  ')\n",
    "        for j in range(1 , i):\n",
    "            print(j , end= ' ')\n",
    "        print()\n",
    "    for i in range(n-1 , 1 , -1):\n",
    "        for j in range(1, i):\n",
    "            print(j , end= ' ')\n",
    "        for j in range(1 , n - i):\n",
    "            print('    ' , end='  ')\n",
    "        for j in range(1 , i):\n",
    "            print(j , end= ' ')\n",
    "        print()\n",
    "butt()"
   ]
  }
 ],
 "metadata": {
  "kernelspec": {
   "display_name": "Python 3",
   "language": "python",
   "name": "python3"
  },
  "language_info": {
   "codemirror_mode": {
    "name": "ipython",
    "version": 3
   },
   "file_extension": ".py",
   "mimetype": "text/x-python",
   "name": "python",
   "nbconvert_exporter": "python",
   "pygments_lexer": "ipython3",
   "version": "3.13.0"
  }
 },
 "nbformat": 4,
 "nbformat_minor": 2
}
